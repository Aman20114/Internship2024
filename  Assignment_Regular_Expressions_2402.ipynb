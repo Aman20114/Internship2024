{
 "cells": [
  {
   "cell_type": "code",
   "execution_count": 2,
   "id": "47367b9e",
   "metadata": {},
   "outputs": [],
   "source": [
    "import pandas as pd\n",
    "import re"
   ]
  },
  {
   "cell_type": "code",
   "execution_count": 24,
   "id": "498b89ff",
   "metadata": {},
   "outputs": [
    {
     "name": "stdout",
     "output_type": "stream",
     "text": [
      "Python Exercises, PHP exercises.\n",
      "Python:Exercises::PHP:exercises.\n"
     ]
    }
   ],
   "source": [
    "# Q1\n",
    "smp_txt = 'Python Exercises, PHP exercises.'\n",
    "\n",
    "result = smp_txt.replace(' ', ':').replace(',', ':').replace(',', ':')\n",
    "\n",
    "print(smp_txt)\n",
    "print(result)"
   ]
  },
  {
   "cell_type": "code",
   "execution_count": 18,
   "id": "38f7b2b6",
   "metadata": {},
   "outputs": [
    {
     "name": "stdout",
     "output_type": "stream",
     "text": [
      "0      hello, world\n",
      "1        XXXXX test\n",
      "2    four, five six\n",
      "Name: SUMMARY, dtype: object\n"
     ]
    }
   ],
   "source": [
    "# Q2\n",
    "dict = {'SUMMARY':['hello, world','XXXXX test', '123four, five:; six...']}\n",
    "\n",
    "df = pd.DataFrame(dict)\n",
    "\n",
    "df = df['SUMMARY'].apply(lambda y: re.sub(r'[^a-z,A-Z\\s]', '', y))\n",
    "\n",
    "\n",
    "print(df)"
   ]
  },
  {
   "cell_type": "code",
   "execution_count": 33,
   "id": "fe8e82ba",
   "metadata": {},
   "outputs": [
    {
     "name": "stdout",
     "output_type": "stream",
     "text": [
      "['There', 'village', 'didn', 'know', 'code', 'python']\n"
     ]
    }
   ],
   "source": [
    "# Q3\n",
    "str = \"There is a boy in the village he didn't know how to code in python.\"\n",
    "\n",
    "pattern = re.compile(r'\\b\\w{4,}\\b')\n",
    "\n",
    "result = pattern.findall(str)\n",
    "\n",
    "print(result)"
   ]
  },
  {
   "cell_type": "code",
   "execution_count": 36,
   "id": "c31747f7",
   "metadata": {},
   "outputs": [
    {
     "name": "stdout",
     "output_type": "stream",
     "text": [
      "['boy', 'the', 'how']\n",
      "['didn', 'know', 'code']\n",
      "['There']\n"
     ]
    }
   ],
   "source": [
    "# Q4\n",
    "str = \"There is a boy in the village he didn't know how to code in python.\"\n",
    "\n",
    "pattern_three = re.compile(r'\\b\\w{3}\\b')\n",
    "pattern_four = re.compile(r'\\b\\w{4}\\b')\n",
    "pattern_five = re.compile(r'\\b\\w{5}\\b')\n",
    "\n",
    "result_three = pattern_three.findall(str)\n",
    "result_four = pattern_four.findall(str)\n",
    "result_five = pattern_five.findall(str)\n",
    "\n",
    "\n",
    "print(result_three)\n",
    "print(result_four)\n",
    "print(result_five)"
   ]
  },
  {
   "cell_type": "code",
   "execution_count": 54,
   "id": "0b49db6c",
   "metadata": {},
   "outputs": [],
   "source": [
    "# Q5\n",
    "\n",
    "# Sample Text\n",
    "sample_text = [\n",
    "    \"example (.com)\",\n",
    "    \"hr@fliprobo (.com)\",\n",
    "    \"github (.com)\",\n",
    "    \"Hello (Data Science World)\",\n",
    "    \"Data (Scientist)\"\n",
    "]\n",
    "# I fail to perform this question\n",
    "\n"
   ]
  },
  {
   "cell_type": "code",
   "execution_count": 3,
   "id": "cc6f98b2",
   "metadata": {},
   "outputs": [],
   "source": [
    "# Q6\n",
    "# I don't know how to solve this question "
   ]
  },
  {
   "cell_type": "code",
   "execution_count": 57,
   "id": "f245a954",
   "metadata": {},
   "outputs": [
    {
     "name": "stdout",
     "output_type": "stream",
     "text": [
      "['Importance', 'Of', 'Regular', 'Expressions', 'In', 'Python']\n"
     ]
    }
   ],
   "source": [
    "# Q7\n",
    "\n",
    "sample_text = 'ImportanceOfRegularExpressionsInPython'\n",
    "\n",
    "pattern = re.findall(r'[A-Z][a-z]*', sample_text)\n",
    "\n",
    "print(pattern)"
   ]
  },
  {
   "cell_type": "code",
   "execution_count": 69,
   "id": "92d55ce9",
   "metadata": {},
   "outputs": [
    {
     "name": "stdout",
     "output_type": "stream",
     "text": [
      "['RegularExpression ', '1IsAn', '', '2ImportantTopic', '', '3InPython', '']\n"
     ]
    }
   ],
   "source": [
    "# Q8    \n",
    "\n",
    "sample_text = \"RegularExpression 1IsAn2ImportantTopic3InPython\"\n",
    "\n",
    "pattern = re.split(r'([0-9]+[A-Za-z]*)', sample_text)\n",
    "\n",
    "print(pattern)"
   ]
  },
  {
   "cell_type": "code",
   "execution_count": null,
   "id": "60149222",
   "metadata": {},
   "outputs": [],
   "source": [
    "# Q9\n",
    "# I dont know how to solve the question"
   ]
  },
  {
   "cell_type": "code",
   "execution_count": 18,
   "id": "f5359b8e",
   "metadata": {},
   "outputs": [
    {
     "name": "stdout",
     "output_type": "stream",
     "text": [
      "       Country          Region  Happiness Rank  Happiness Score  \\\n",
      "0  Switzerland  Western Europe               1            7.587   \n",
      "1      Iceland  Western Europe               2            7.561   \n",
      "2      Denmark  Western Europe               3            7.527   \n",
      "3       Norway  Western Europe               4            7.522   \n",
      "4       Canada   North America               5            7.427   \n",
      "\n",
      "   Standard Error  Economy (GDP per Capita)   Family  \\\n",
      "0         0.03411                   1.39651  1.34951   \n",
      "1         0.04884                   1.30232  1.40223   \n",
      "2         0.03328                   1.32548  1.36058   \n",
      "3         0.03880                   1.45900  1.33095   \n",
      "4         0.03553                   1.32629  1.32261   \n",
      "\n",
      "   Health (Life Expectancy)  Freedom  Trust (Government Corruption)  \\\n",
      "0                   0.94143  0.66557                        0.41978   \n",
      "1                   0.94784  0.62877                        0.14145   \n",
      "2                   0.87464  0.64938                        0.48357   \n",
      "3                   0.88521  0.66973                        0.36503   \n",
      "4                   0.90563  0.63297                        0.32957   \n",
      "\n",
      "   Generosity  Dystopia Residual first_five_letters  \n",
      "0     0.29678            2.51738             Switze  \n",
      "1     0.43630            2.70201             Icelan  \n",
      "2     0.34139            2.49204             Denmar  \n",
      "3     0.34699            2.46531             Norway  \n",
      "4     0.45811            2.45176             Canada  \n"
     ]
    }
   ],
   "source": [
    "# Q10\n",
    "github_link = \"https://raw.githubusercontent.com/dsrscientist/DSData/master/happiness_score_dataset.csv\"\n",
    "\n",
    "# Read the data into a DataFrame\n",
    "df = pd.read_csv(github_link)\n",
    "\n",
    "df['first_five_letters'] = df['Country'].str[:6]\n",
    "\n",
    "print(df.head())\n"
   ]
  },
  {
   "cell_type": "code",
   "execution_count": 56,
   "id": "4efad2c5",
   "metadata": {},
   "outputs": [
    {
     "name": "stdout",
     "output_type": "stream",
     "text": [
      "<re.Match object; span=(0, 11), match='Aman_T@0114'>\n"
     ]
    }
   ],
   "source": [
    "# Q11\n",
    "strings = \"Aman_T@0114\"\n",
    "\n",
    "pattern = re.match(r'^[a-zA-Z0-9_@]+$', strings)\n",
    "\n",
    "print(pattern)"
   ]
  },
  {
   "cell_type": "code",
   "execution_count": 66,
   "id": "c9fe61f2",
   "metadata": {},
   "outputs": [
    {
     "name": "stdout",
     "output_type": "stream",
     "text": [
      "<re.Match object; span=(6, 9), match='123'>\n"
     ]
    }
   ],
   "source": [
    "# Q12\n",
    "string = 'a dog 123barking on the street'\n",
    "\n",
    "pattern = re.search(r'\\d{3}', string)\n",
    "\n",
    "print(pattern)"
   ]
  },
  {
   "cell_type": "code",
   "execution_count": 78,
   "id": "1d7d2566",
   "metadata": {},
   "outputs": [
    {
     "name": "stdout",
     "output_type": "stream",
     "text": [
      "Enter IP address:198.010.15.02\n",
      "198.10.15.2\n"
     ]
    }
   ],
   "source": [
    "# Q13\n",
    "ip = input('Enter IP address:')\n",
    "result =   '.'.join(map(str, map(int, ip.split('.'))))\n",
    "print(result)"
   ]
  },
  {
   "cell_type": "code",
   "execution_count": 106,
   "id": "be48088e",
   "metadata": {
    "scrolled": true
   },
   "outputs": [
    {
     "name": "stdout",
     "output_type": "stream",
     "text": [
      "['August 15th 1947']\n"
     ]
    }
   ],
   "source": [
    "# Q14\n",
    "with open('sample_text.txt', 'r') as file:\n",
    "    text = file.read()\n",
    "\n",
    "date_pattern = re.compile(r'\\b([A-za-z]+ \\d{1,2}(?:st|nd|rd|th)? \\d{4})\\b')\n",
    "\n",
    "matches = date_pattern.findall(text)\n",
    "\n",
    "print(matches)"
   ]
  },
  {
   "cell_type": "code",
   "execution_count": 5,
   "id": "07142cdc",
   "metadata": {},
   "outputs": [
    {
     "name": "stdout",
     "output_type": "stream",
     "text": [
      "['01.12', '145.8', '3.01', '27.25', '0.25']\n"
     ]
    }
   ],
   "source": [
    "# Q20\n",
    "Sample_text = '01.12 0132.123 2.31875 145.8 3.01 27.25 0.25'\n",
    "\n",
    "pattern = re.findall(r'\\b\\d+\\.\\d{1,2}\\b', Sample_text)\n",
    "print(pattern)"
   ]
  },
  {
   "cell_type": "code",
   "execution_count": 39,
   "id": "d762d9d5",
   "metadata": {},
   "outputs": [],
   "source": [
    "# Q21\n",
    "# i've tried did'nt solved it"
   ]
  },
  {
   "cell_type": "code",
   "execution_count": 42,
   "id": "9803d1f9",
   "metadata": {},
   "outputs": [
    {
     "name": "stdout",
     "output_type": "stream",
     "text": [
      "950\n"
     ]
    }
   ],
   "source": [
    "# Q22\n",
    "sample_text = 'My marks in each semester are: 947, 896, 926, 524, 734, 950, 642'\n",
    "matches = [int(match) for match in re.findall(r'\\b\\d+\\b', sample_text)]\n",
    "\n",
    "largest_num = max(matches)\n",
    "print(largest_num)"
   ]
  },
  {
   "cell_type": "code",
   "execution_count": 66,
   "id": "2e9ec761",
   "metadata": {},
   "outputs": [
    {
     "name": "stdout",
     "output_type": "stream",
     "text": [
      "Regular Expression Is An Important Topic In Python\n"
     ]
    }
   ],
   "source": [
    "# Q23\n",
    "str = 'RegularExpressionIsAnImportantTopicInPython'\n",
    "\n",
    "pattern = re.sub(r'(?<=[a-z])(?=[A-Z])', ' ', str)\n",
    "\n",
    "print(pattern)"
   ]
  },
  {
   "cell_type": "code",
   "execution_count": 89,
   "id": "902eb9c7",
   "metadata": {},
   "outputs": [
    {
     "name": "stdout",
     "output_type": "stream",
     "text": [
      "['Am', 'Man', 'Of', 'Own', 'Words']\n"
     ]
    }
   ],
   "source": [
    "# Q24\n",
    "string = 'I AmA ManOf my OwnWords'\n",
    "pattern1 = re.findall(r'[A-Z][a-z]+', string)\n",
    "print(pattern1)"
   ]
  },
  {
   "cell_type": "code",
   "execution_count": 112,
   "id": "d91626ac",
   "metadata": {},
   "outputs": [
    {
     "name": "stdout",
     "output_type": "stream",
     "text": [
      "Hello hello \n"
     ]
    }
   ],
   "source": [
    "# Q25\n",
    "sample_text = 'Hello hello world world'\n",
    "\n",
    "pattern = re.sub(r'\\b(\\w+)\\s+\\1\\b','', sample_text)\n",
    "print(pattern)\n",
    "\n",
    "#don't know how to print 'world'"
   ]
  },
  {
   "cell_type": "code",
   "execution_count": 126,
   "id": "77e27d43",
   "metadata": {},
   "outputs": [
    {
     "name": "stdout",
     "output_type": "stream",
     "text": [
      "None\n"
     ]
    }
   ],
   "source": [
    "# Q 26\n",
    "alpha_num = 'Datascience12'\n",
    "\n",
    "pattern = re.match(r'^[a-zA-Z0-9]$', alpha_num)\n",
    "\n",
    "print(pattern)"
   ]
  },
  {
   "cell_type": "code",
   "execution_count": 131,
   "id": "3f056d66",
   "metadata": {},
   "outputs": [
    {
     "name": "stdout",
     "output_type": "stream",
     "text": [
      "['#Doltiwal', '#xyzabc', '#Demonetization']\n"
     ]
    }
   ],
   "source": [
    "# Q27\n",
    "sample_text = \"\"\"RT @kapil_kausik: #Doltiwal I mean #xyzabc is \"hurt\" by #Demonetization as the same\n",
    "              has rendered USELESS <ed><U+00A0><U+00BD><ed><U+00B1><U+0089> \"acquired funds\" No wo\"\"\"\n",
    "\n",
    "pattern = re.findall(r'#\\w*', sample_text)\n",
    "\n",
    "print(pattern)"
   ]
  },
  {
   "cell_type": "code",
   "execution_count": 138,
   "id": "40a453aa",
   "metadata": {},
   "outputs": [
    {
     "name": "stdout",
     "output_type": "stream",
     "text": [
      "['12-09-1992', '15-12-1999']\n"
     ]
    }
   ],
   "source": [
    "# Q29\n",
    "with open('date_text.txt', 'r') as file:\n",
    "    date = file.read()\n",
    "    \n",
    "pattern = re.findall(r'\\b\\d{2}-\\d{2}-\\d{4}\\b', date)\n",
    "\n",
    "print(pattern)"
   ]
  },
  {
   "cell_type": "code",
   "execution_count": 151,
   "id": "8eb70390",
   "metadata": {},
   "outputs": [
    {
     "name": "stdout",
     "output_type": "stream",
     "text": [
      " following example creates  ArrayList  a capacity   elements. 4 elements  thenadded   ArrayList   ArrayList  trimmed accordingly.\n"
     ]
    }
   ],
   "source": [
    "# Q30 \n",
    "sample_text = \"The following example creates an ArrayList with a capacity of 50 elements. 4 elements are thenadded to the ArrayList and the ArrayList is trimmed accordingly.\"\n",
    "\n",
    "pattern = re.compile(r'\\b\\w{2,4}\\b')\n",
    "\n",
    "text = pattern.sub('', sample_text)\n",
    "\n",
    "print(text)"
   ]
  },
  {
   "cell_type": "code",
   "execution_count": null,
   "id": "bafdae1c",
   "metadata": {},
   "outputs": [],
   "source": []
  }
 ],
 "metadata": {
  "kernelspec": {
   "display_name": "Python 3 (ipykernel)",
   "language": "python",
   "name": "python3"
  },
  "language_info": {
   "codemirror_mode": {
    "name": "ipython",
    "version": 3
   },
   "file_extension": ".py",
   "mimetype": "text/x-python",
   "name": "python",
   "nbconvert_exporter": "python",
   "pygments_lexer": "ipython3",
   "version": "3.11.5"
  }
 },
 "nbformat": 4,
 "nbformat_minor": 5
}
