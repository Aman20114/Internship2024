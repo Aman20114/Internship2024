{
 "cells": [
  {
   "cell_type": "code",
   "execution_count": 1,
   "id": "83c835fa-1667-483c-a7d1-a715199648a4",
   "metadata": {},
   "outputs": [
    {
     "name": "stdout",
     "output_type": "stream",
     "text": [
      "Defaulting to user installation because normal site-packages is not writeable\n",
      "Requirement already satisfied: selenium in c:\\programdata\\anaconda3\\lib\\site-packages (4.19.0)\n",
      "Requirement already satisfied: urllib3<3,>=1.26 in c:\\programdata\\anaconda3\\lib\\site-packages (from urllib3[socks]<3,>=1.26->selenium) (2.0.7)\n",
      "Requirement already satisfied: trio~=0.17 in c:\\programdata\\anaconda3\\lib\\site-packages (from selenium) (0.25.0)\n",
      "Requirement already satisfied: trio-websocket~=0.9 in c:\\programdata\\anaconda3\\lib\\site-packages (from selenium) (0.11.1)\n",
      "Requirement already satisfied: certifi>=2021.10.8 in c:\\programdata\\anaconda3\\lib\\site-packages (from selenium) (2024.2.2)\n",
      "Requirement already satisfied: typing_extensions>=4.9.0 in c:\\programdata\\anaconda3\\lib\\site-packages (from selenium) (4.9.0)\n",
      "Requirement already satisfied: attrs>=23.2.0 in c:\\programdata\\anaconda3\\lib\\site-packages (from trio~=0.17->selenium) (23.2.0)\n",
      "Requirement already satisfied: sortedcontainers in c:\\programdata\\anaconda3\\lib\\site-packages (from trio~=0.17->selenium) (2.4.0)\n",
      "Requirement already satisfied: idna in c:\\programdata\\anaconda3\\lib\\site-packages (from trio~=0.17->selenium) (3.4)\n",
      "Requirement already satisfied: outcome in c:\\programdata\\anaconda3\\lib\\site-packages (from trio~=0.17->selenium) (1.3.0.post0)\n",
      "Requirement already satisfied: sniffio>=1.3.0 in c:\\programdata\\anaconda3\\lib\\site-packages (from trio~=0.17->selenium) (1.3.0)\n",
      "Requirement already satisfied: cffi>=1.14 in c:\\programdata\\anaconda3\\lib\\site-packages (from trio~=0.17->selenium) (1.16.0)\n",
      "Requirement already satisfied: wsproto>=0.14 in c:\\programdata\\anaconda3\\lib\\site-packages (from trio-websocket~=0.9->selenium) (1.2.0)\n",
      "Requirement already satisfied: pysocks!=1.5.7,<2.0,>=1.5.6 in c:\\programdata\\anaconda3\\lib\\site-packages (from urllib3[socks]<3,>=1.26->selenium) (1.7.1)\n",
      "Requirement already satisfied: pycparser in c:\\programdata\\anaconda3\\lib\\site-packages (from cffi>=1.14->trio~=0.17->selenium) (2.21)\n",
      "Requirement already satisfied: h11<1,>=0.9.0 in c:\\programdata\\anaconda3\\lib\\site-packages (from wsproto>=0.14->trio-websocket~=0.9->selenium) (0.14.0)\n"
     ]
    }
   ],
   "source": [
    "!pip install selenium"
   ]
  },
  {
   "cell_type": "code",
   "execution_count": 1,
   "id": "39400caf-098d-4f7a-a00f-af314f63f2ea",
   "metadata": {},
   "outputs": [],
   "source": [
    "import selenium\n",
    "import pandas as pd\n",
    "from selenium import webdriver\n",
    "import warnings\n",
    "warnings.filterwarnings('ignore')\n",
    "from selenium.webdriver.common.by import By\n",
    "import time"
   ]
  },
  {
   "cell_type": "code",
   "execution_count": 41,
   "id": "6194899c-c5f9-49d9-80df-c3d52771467f",
   "metadata": {},
   "outputs": [],
   "source": [
    "#Q1\n",
    "driver = webdriver.Chrome()"
   ]
  },
  {
   "cell_type": "code",
   "execution_count": 42,
   "id": "960d45ae-2d25-4098-b205-d13e5211ef02",
   "metadata": {},
   "outputs": [],
   "source": [
    "driver.get('https://www.naukri.com/')"
   ]
  },
  {
   "cell_type": "code",
   "execution_count": 44,
   "id": "d6eb80c4-efa5-41ef-af5a-646f6a9908a1",
   "metadata": {},
   "outputs": [],
   "source": [
    "designation = driver.find_element(By.CLASS_NAME,'suggestor-input ')\n",
    "designation.send_keys('Data Scientist')"
   ]
  },
  {
   "cell_type": "code",
   "execution_count": 43,
   "id": "97b06f09-a95f-44a8-835f-e4eed06aabe6",
   "metadata": {},
   "outputs": [],
   "source": [
    "location = driver.find_element(By.XPATH,'/html/body/div[1]/div[7]/div/div/div[5]/div/div/div/div[1]/div/input')\n",
    "location.send_keys('Delhi/NCR')"
   ]
  },
  {
   "cell_type": "code",
   "execution_count": 45,
   "id": "d16a9b4a-6752-4921-9e18-0e0ffc886292",
   "metadata": {},
   "outputs": [],
   "source": [
    "submit = driver.find_element(By. CLASS_NAME, 'qsbSubmit')\n",
    "submit.click()"
   ]
  },
  {
   "cell_type": "code",
   "execution_count": 46,
   "id": "ec7fd6da-d243-4b91-bb94-78018f37b086",
   "metadata": {},
   "outputs": [],
   "source": [
    "job_title = []\n",
    "job_loc = []"
   ]
  },
  {
   "cell_type": "code",
   "execution_count": 47,
   "id": "885571ce-5319-482c-a375-7a2e845d9552",
   "metadata": {},
   "outputs": [],
   "source": [
    "title_tags = driver.find_elements(By.XPATH,'//div[@class=\" row1\"]/a')[:10]\n",
    "for i in title_tags:\n",
    "    desig = i.text\n",
    "    job_title.append(desig)\n",
    "\n",
    "city = driver.find_elements(By.XPATH,'//span[@class=\"ni-job-tuple-icon ni-job-tuple-icon-srp-location loc\"]/span')[:10]\n",
    "for i in city:\n",
    "    loc = i.text\n",
    "    job_loc.append('loc')"
   ]
  },
  {
   "cell_type": "code",
   "execution_count": 48,
   "id": "7499a039-c963-42ab-a825-f63671e25ac1",
   "metadata": {},
   "outputs": [
    {
     "name": "stdout",
     "output_type": "stream",
     "text": [
      "10 10\n"
     ]
    }
   ],
   "source": [
    "print(len(job_title), len(job_loc))"
   ]
  },
  {
   "cell_type": "code",
   "execution_count": 49,
   "id": "84ad86eb-99f5-469e-bee0-faa8acf2183b",
   "metadata": {},
   "outputs": [
    {
     "data": {
      "text/html": [
       "<div>\n",
       "<style scoped>\n",
       "    .dataframe tbody tr th:only-of-type {\n",
       "        vertical-align: middle;\n",
       "    }\n",
       "\n",
       "    .dataframe tbody tr th {\n",
       "        vertical-align: top;\n",
       "    }\n",
       "\n",
       "    .dataframe thead th {\n",
       "        text-align: right;\n",
       "    }\n",
       "</style>\n",
       "<table border=\"1\" class=\"dataframe\">\n",
       "  <thead>\n",
       "    <tr style=\"text-align: right;\">\n",
       "      <th></th>\n",
       "      <th>Designation</th>\n",
       "      <th>Location</th>\n",
       "    </tr>\n",
       "  </thead>\n",
       "  <tbody>\n",
       "    <tr>\n",
       "      <th>0</th>\n",
       "      <td>Senior Data Scientist, Reporting</td>\n",
       "      <td>loc</td>\n",
       "    </tr>\n",
       "    <tr>\n",
       "      <th>1</th>\n",
       "      <td>Data Scientist</td>\n",
       "      <td>loc</td>\n",
       "    </tr>\n",
       "    <tr>\n",
       "      <th>2</th>\n",
       "      <td>DS - NLP Expert</td>\n",
       "      <td>loc</td>\n",
       "    </tr>\n",
       "    <tr>\n",
       "      <th>3</th>\n",
       "      <td>Lead Data Scientist</td>\n",
       "      <td>loc</td>\n",
       "    </tr>\n",
       "    <tr>\n",
       "      <th>4</th>\n",
       "      <td>Lead Data Scientist</td>\n",
       "      <td>loc</td>\n",
       "    </tr>\n",
       "    <tr>\n",
       "      <th>5</th>\n",
       "      <td></td>\n",
       "      <td>loc</td>\n",
       "    </tr>\n",
       "    <tr>\n",
       "      <th>6</th>\n",
       "      <td></td>\n",
       "      <td>loc</td>\n",
       "    </tr>\n",
       "    <tr>\n",
       "      <th>7</th>\n",
       "      <td></td>\n",
       "      <td>loc</td>\n",
       "    </tr>\n",
       "    <tr>\n",
       "      <th>8</th>\n",
       "      <td>Data Scientist II</td>\n",
       "      <td>loc</td>\n",
       "    </tr>\n",
       "    <tr>\n",
       "      <th>9</th>\n",
       "      <td>Data Scientist</td>\n",
       "      <td>loc</td>\n",
       "    </tr>\n",
       "  </tbody>\n",
       "</table>\n",
       "</div>"
      ],
      "text/plain": [
       "                        Designation Location\n",
       "0  Senior Data Scientist, Reporting      loc\n",
       "1                    Data Scientist      loc\n",
       "2                   DS - NLP Expert      loc\n",
       "3               Lead Data Scientist      loc\n",
       "4               Lead Data Scientist      loc\n",
       "5                                        loc\n",
       "6                                        loc\n",
       "7                                        loc\n",
       "8                 Data Scientist II      loc\n",
       "9                    Data Scientist      loc"
      ]
     },
     "execution_count": 49,
     "metadata": {},
     "output_type": "execute_result"
    }
   ],
   "source": [
    "df = pd.DataFrame({'Designation':job_title, 'Location':job_loc})\n",
    "df"
   ]
  },
  {
   "cell_type": "code",
   "execution_count": 90,
   "id": "14226751-0fab-43b1-87da-276de627c232",
   "metadata": {},
   "outputs": [],
   "source": [
    "#Q2\n",
    "driver = webdriver.Chrome()"
   ]
  },
  {
   "cell_type": "code",
   "execution_count": 91,
   "id": "e9b6a877-b17d-4bb3-9be6-bb465eb84055",
   "metadata": {},
   "outputs": [],
   "source": [
    "driver.get('https://www.shine.com/')"
   ]
  },
  {
   "cell_type": "code",
   "execution_count": 93,
   "id": "46eeee1a-f8dc-4dbd-8fd8-ade5af0f9bfb",
   "metadata": {},
   "outputs": [],
   "source": [
    "designation = driver.find_element(By.XPATH, '/html/body/div/div[4]/div/div[2]/div[2]/div/form/div/div[1]/ul/li[1]/div/input')\n",
    "designation.send_keys('Data Analyst')"
   ]
  },
  {
   "cell_type": "code",
   "execution_count": 94,
   "id": "11761003-56f3-4657-bf9b-82f9b8d4d5d1",
   "metadata": {},
   "outputs": [],
   "source": [
    "location = driver.find_element(By.XPATH, '/html/body/div/div[4]/div/div[2]/div[2]/div/form/div/div[1]/ul/li[2]/div/input')\n",
    "location.send_keys('Bengaluru')"
   ]
  },
  {
   "cell_type": "code",
   "execution_count": 95,
   "id": "17417e05-41c7-4692-a41b-624067b356cb",
   "metadata": {},
   "outputs": [],
   "source": [
    "search = driver.find_element(By.XPATH, '/html/body/div/div[4]/div/div[2]/div[2]/div/form/div/div[2]/div/button')\n",
    "search.click()"
   ]
  },
  {
   "cell_type": "code",
   "execution_count": 96,
   "id": "d00e02a6-74e4-4b9c-a183-1bf03f37e036",
   "metadata": {},
   "outputs": [],
   "source": [
    "job_titles = []\n",
    "job_locations = []"
   ]
  },
  {
   "cell_type": "code",
   "execution_count": 97,
   "id": "1a64a04a-1072-481d-9035-ba2ce3d5a49a",
   "metadata": {},
   "outputs": [],
   "source": [
    "title_tags = driver.find_elements(By.XPATH, '//strong[@class=\"jobCard_pReplaceH2__xWmHg\"]/a')[:10]\n",
    "for i in title_tags:\n",
    "    designation = i.text\n",
    "    job_titles.append(designation)\n",
    "\n",
    "city = driver.find_elements(By.XPATH,'/html/body/div[1]/div[2]/div[4]/div/div[2]/div[1]/div/div/div[1]/div[1]/div[1]/div[3]/div[2]')\n",
    "for i in city:\n",
    "    locations = i.text\n",
    "    job_locations.append('locations')"
   ]
  },
  {
   "cell_type": "code",
   "execution_count": 98,
   "id": "e0b2de4a-09da-41fe-8a81-27607af462b8",
   "metadata": {},
   "outputs": [
    {
     "name": "stdout",
     "output_type": "stream",
     "text": [
      "10 1\n"
     ]
    }
   ],
   "source": [
    "print(len(job_titles), len(job_locations))"
   ]
  },
  {
   "cell_type": "code",
   "execution_count": 148,
   "id": "7cd40052-c61f-4a54-b070-a04ad1c380a5",
   "metadata": {},
   "outputs": [],
   "source": [
    "#Q3\n",
    "driver = webdriver.Chrome()"
   ]
  },
  {
   "cell_type": "code",
   "execution_count": 149,
   "id": "81ef58a3-5bc2-414b-b7ac-a92bb95cb0c9",
   "metadata": {},
   "outputs": [],
   "source": [
    "driver.get('https://www.flipkart.com/apple-iphone-11-black-64-gb/product-reviews/itm4e5041ba101fd?pid=MOBFWQ6BXGJCEYNY&lid=LSTMOBFWQ6BXGJCEYNYZXSHRJ&marketplace=FLIPKART')"
   ]
  },
  {
   "cell_type": "code",
   "execution_count": 150,
   "id": "16d60a90-1023-4d65-97c8-d3b75e5a2820",
   "metadata": {},
   "outputs": [],
   "source": [
    "ratings = []\n",
    "rev_summ = []\n",
    "full_review = []"
   ]
  },
  {
   "cell_type": "code",
   "execution_count": 175,
   "id": "424660d7-2b93-4110-9a65-592d3690cd33",
   "metadata": {},
   "outputs": [],
   "source": [
    "rating = driver.find_elements(By.XPATH, '//div[@class=\"_3LWZlK _1BLPMq\"]')\n",
    "for i in rating:\n",
    "    star = i.text\n",
    "    ratings.append(star)\n",
    "\n",
    "\n",
    "review = driver.find_elements(By.XPATH, '//p[@class=\"_2-N8zT\"]')\n",
    "for i in review:\n",
    "    summary = i.text\n",
    "    rev_summ.append(summary)\n",
    "\n",
    "full = driver.find_elements(By.XPATH, '//div[@class=\"t-ZTKy\"]/div/div')\n",
    "for i in full:\n",
    "    rev = i.text\n",
    "    full_review.append(rev)\n"
   ]
  },
  {
   "cell_type": "code",
   "execution_count": 176,
   "id": "43caa7c0-9667-48a1-871b-c6dbd83b8e89",
   "metadata": {},
   "outputs": [
    {
     "name": "stdout",
     "output_type": "stream",
     "text": [
      "100 100 100\n"
     ]
    }
   ],
   "source": [
    "print(len(ratings), len(rev_summ), len(full_review))"
   ]
  },
  {
   "cell_type": "code",
   "execution_count": 177,
   "id": "d9009ce3-329e-45f1-8ed7-2561d24b8632",
   "metadata": {},
   "outputs": [],
   "source": [
    "#Q4\n",
    "driver = webdriver.Chrome()"
   ]
  },
  {
   "cell_type": "code",
   "execution_count": 181,
   "id": "9f6c2e57-4882-4872-82ab-3546bf96fd1c",
   "metadata": {},
   "outputs": [],
   "source": [
    "driver.get('https://www.flipkart.com/')"
   ]
  },
  {
   "cell_type": "code",
   "execution_count": 182,
   "id": "5f8419bd-12a7-457f-80ed-69ea7fd865d3",
   "metadata": {},
   "outputs": [],
   "source": [
    "flipkart = driver.find_element(By.XPATH, '//div[@class=\"_2SmNnR\"]/input')\n",
    "flipkart.send_keys('Sneakers')"
   ]
  },
  {
   "cell_type": "code",
   "execution_count": 183,
   "id": "39abc0cc-b703-4bd4-827c-10f803ececa5",
   "metadata": {},
   "outputs": [],
   "source": [
    "search = driver.find_element(By.XPATH,'//button[@class=\"_2iLD__\"]')\n",
    "search.click()"
   ]
  },
  {
   "cell_type": "code",
   "execution_count": 184,
   "id": "79b14442-cac6-4063-aa26-ee2e36328d80",
   "metadata": {},
   "outputs": [],
   "source": [
    "brands = []\n",
    "prod_des = []\n",
    "prices = []"
   ]
  },
  {
   "cell_type": "code",
   "execution_count": 190,
   "id": "10aafcb6-26a1-4c8a-b93e-ee7f70c0eaeb",
   "metadata": {},
   "outputs": [],
   "source": [
    "brand_tag = driver.find_elements(By.XPATH, '//div[@class=\"_2WkVRV\"]')\n",
    "for i in brand_tag:\n",
    "    sneakers = i.text\n",
    "    brands.append(sneakers)\n",
    "\n",
    "description_tag = driver.find_elements(By.XPATH, '//div[@class=\"_2WkVRV\"]')\n",
    "for i in description_tag:\n",
    "    products = i.text\n",
    "    prod_des.append(products)\n",
    "\n",
    "price_tag = driver.find_elements(By.XPATH, '//div[@class=\"_30jeq3\"]')\n",
    "for i in price_tag:\n",
    "    price = i.text\n",
    "    prices.append(price)\n",
    "\n"
   ]
  },
  {
   "cell_type": "code",
   "execution_count": 191,
   "id": "98c6da86-910d-4c39-b959-930345f1cdfe",
   "metadata": {},
   "outputs": [
    {
     "name": "stdout",
     "output_type": "stream",
     "text": [
      "80 80 80\n"
     ]
    }
   ],
   "source": [
    "print(len(brands), len(prod_des), len(prices))"
   ]
  },
  {
   "cell_type": "code",
   "execution_count": 227,
   "id": "8125fb6f-e626-445a-aacf-1ae3d0d4d24d",
   "metadata": {},
   "outputs": [],
   "source": [
    "#Q5\n",
    "driver = webdriver.Chrome()"
   ]
  },
  {
   "cell_type": "code",
   "execution_count": 228,
   "id": "d8f4861e-721d-47c1-8c92-1ba6b76b1ec3",
   "metadata": {},
   "outputs": [],
   "source": [
    "driver.get('https://www.amazon.in/')"
   ]
  },
  {
   "cell_type": "code",
   "execution_count": 229,
   "id": "a0ebbb86-2186-41d3-8676-9d028eab31e2",
   "metadata": {},
   "outputs": [],
   "source": [
    "laptop = driver.find_element(By.XPATH, '/html/body/div[1]/header/div/div[1]/div[2]/div/form/div[2]/div[1]/input')\n",
    "laptop.send_keys('Laptop Intel Core i7')"
   ]
  },
  {
   "cell_type": "code",
   "execution_count": 230,
   "id": "c3cb68ae-68bf-4b56-8bf5-3cd00ff25f95",
   "metadata": {},
   "outputs": [],
   "source": [
    "search = driver.find_element(By.XPATH, '/html/body/div[1]/header/div/div[1]/div[2]/div/form/div[3]/div/span/input')\n",
    "search.click()"
   ]
  },
  {
   "cell_type": "code",
   "execution_count": 231,
   "id": "9781e927-dd33-4881-bbd6-a7bec37b96cf",
   "metadata": {},
   "outputs": [],
   "source": [
    "titles = []\n",
    "ratings = []\n",
    "prices = []"
   ]
  },
  {
   "cell_type": "code",
   "execution_count": 232,
   "id": "4e5cfb3b-218a-48dc-8cd1-5ef0affceaa5",
   "metadata": {},
   "outputs": [],
   "source": [
    "title_tag = driver.find_elements(By.XPATH, '//h2[@class=\"a-size-mini a-spacing-none a-color-base s-line-clamp-2\"]')[:10]\n",
    "for i in title_tag:\n",
    "    text = i.text\n",
    "    titles.append(text)\n",
    "\n",
    "rating_tag = driver.find_elements(By.XPATH, '//span[@class=\"a-size-base s-underline-text\"]')[:10]\n",
    "for i in rating_tag:\n",
    "    rate = i.text\n",
    "    ratings.append(rate)\n",
    "\n",
    "price_tag = driver.find_elements(By.XPATH, '//span[@class=\"a-price-whole\"]')[:10]\n",
    "for i in price_tag:\n",
    "    cost = i.text\n",
    "    prices.append(cost)"
   ]
  },
  {
   "cell_type": "code",
   "execution_count": 233,
   "id": "7bb002cd-04e0-4820-bd50-8d6d57351a13",
   "metadata": {},
   "outputs": [
    {
     "name": "stdout",
     "output_type": "stream",
     "text": [
      "10 10 10\n"
     ]
    }
   ],
   "source": [
    "print(len(titles), len(ratings), len(prices))"
   ]
  },
  {
   "cell_type": "code",
   "execution_count": 242,
   "id": "9403e0f9-0812-4995-835f-2f999b411707",
   "metadata": {},
   "outputs": [],
   "source": [
    "# Q6\n",
    "driver = webdriver.Chrome()"
   ]
  },
  {
   "cell_type": "code",
   "execution_count": 243,
   "id": "b9a285ce-89d0-4a10-9d60-9e8d77ba9149",
   "metadata": {},
   "outputs": [],
   "source": [
    "driver.get('https://www.azquotes.com/')"
   ]
  },
  {
   "cell_type": "code",
   "execution_count": 245,
   "id": "f1c373a7-4492-4851-ac3e-f901fddbdbb0",
   "metadata": {},
   "outputs": [
    {
     "name": "stdout",
     "output_type": "stream",
     "text": [
      "You teach best what you most need to learn.\n"
     ]
    }
   ],
   "source": [
    "quote = driver.find_element(By.XPATH, '/html/body/div[1]/div[2]/div/div/div[2]/div/div[1]/div/div[1]/div/div[3]/div/div[1]/p/a')\n",
    "data = quote.text\n",
    "print(data)"
   ]
  },
  {
   "cell_type": "code",
   "execution_count": 246,
   "id": "f4859572-79c1-4e11-a802-1880de50dbb8",
   "metadata": {},
   "outputs": [
    {
     "name": "stdout",
     "output_type": "stream",
     "text": [
      "Richard Bach\n"
     ]
    }
   ],
   "source": [
    "author = driver.find_element(By. XPATH, '/html/body/div[1]/div[2]/div/div/div/div[1]/div/ul/li/div/div[1]/a')\n",
    "data = author.text\n",
    "print(data)"
   ]
  },
  {
   "cell_type": "code",
   "execution_count": 247,
   "id": "fcb9e20b-3fac-44c5-9584-1330562871f0",
   "metadata": {},
   "outputs": [
    {
     "name": "stdout",
     "output_type": "stream",
     "text": [
      "Learning\n"
     ]
    }
   ],
   "source": [
    "types_of_quote = driver.find_element(By.XPATH, '/html/body/div[1]/div[2]/div/div/div/div[1]/div/div[2]/ul/li[2]/a')\n",
    "data = types_of_quote.text\n",
    "print(data)"
   ]
  },
  {
   "cell_type": "code",
   "execution_count": 3,
   "id": "b9bb3992-096a-42e7-acb9-b4daa81ab179",
   "metadata": {},
   "outputs": [],
   "source": [
    "#Q7\n",
    "driver = webdriver.Chrome()"
   ]
  },
  {
   "cell_type": "code",
   "execution_count": 4,
   "id": "09c7ea57-9e6f-4a8f-806b-c032c8260000",
   "metadata": {},
   "outputs": [],
   "source": [
    "driver.get('https://www.jagranjosh.com/general-knowledge/list-of-all-prime-ministers-of-india-1473165149-1')"
   ]
  },
  {
   "cell_type": "code",
   "execution_count": 7,
   "id": "06571bf8-fbd5-42b7-a8b4-24b0f5344f37",
   "metadata": {},
   "outputs": [],
   "source": [
    "table = []"
   ]
  },
  {
   "cell_type": "code",
   "execution_count": 16,
   "id": "9e00b415-1a0a-4850-ab27-eaa5b635a28c",
   "metadata": {},
   "outputs": [
    {
     "name": "stdout",
     "output_type": "stream",
     "text": [
      "{'Name': '1.', 'Born-Dead': 'Jawahar Lal Nehru', 'Term of Office': '(1889–1964)', 'Remarks': '15 August 1947 to 27 May 1964\\n16 years, 286 days'}\n",
      "{'Name': '2.', 'Born-Dead': 'Gulzarilal Nanda (Acting)', 'Term of Office': '(1898-1998)', 'Remarks': '27 May 1964 to 9 June 1964,\\n13 days'}\n",
      "{'Name': '3.', 'Born-Dead': 'Lal Bahadur Shastri', 'Term of Office': '(1904–1966)', 'Remarks': '9 June 1964 to 11 January 1966\\n1 year, 216 days'}\n",
      "{'Name': '4. ', 'Born-Dead': 'Gulzari Lal Nanda  (Acting)', 'Term of Office': '(1898-1998)', 'Remarks': '11 January 1966 to 24 January 1966\\n13 days'}\n",
      "{'Name': '5.', 'Born-Dead': 'Indira Gandhi', 'Term of Office': '(1917–1984)', 'Remarks': '24 January 1966 to 24 March 1977\\n11 years, 59 days'}\n",
      "{'Name': '6.', 'Born-Dead': 'Morarji Desai', 'Term of Office': '(1896–1995)', 'Remarks': '24 March 1977 to  28 July 1979 \\n2 year, 126 days'}\n",
      "{'Name': '7.', 'Born-Dead': 'Charan Singh', 'Term of Office': '(1902–1987)', 'Remarks': '28 July 1979 to 14 January 1980\\n170 days'}\n",
      "{'Name': '8.', 'Born-Dead': 'Indira Gandhi', 'Term of Office': '(1917–1984)', 'Remarks': '14 January 1980 to 31 October 1984\\n4 years, 291 days'}\n",
      "{'Name': '9.', 'Born-Dead': 'Rajiv Gandhi', 'Term of Office': '(1944–1991)', 'Remarks': '31 October 1984 to 2 December 1989\\n5 years, 32 days'}\n",
      "{'Name': '10.', 'Born-Dead': 'V. P. Singh', 'Term of Office': '(1931–2008)', 'Remarks': '2 December 1989 to 10 November 1990\\n343 days'}\n",
      "{'Name': '11.', 'Born-Dead': 'Chandra Shekhar', 'Term of Office': '(1927–2007)', 'Remarks': '10 November 1990 to 21 June 1991\\n223 days'}\n",
      "{'Name': '12.', 'Born-Dead': 'P. V. Narasimha Rao', 'Term of Office': '(1921–2004)', 'Remarks': '21 June 1991 to 16 May 1996\\n4 years, 330 days'}\n",
      "{'Name': '13.', 'Born-Dead': 'Atal Bihari Vajpayee', 'Term of Office': '(1924- 2018)', 'Remarks': '16 May 1996 to 1 June 1996\\n16 days'}\n",
      "{'Name': '14.', 'Born-Dead': 'H. D. Deve Gowda', 'Term of Office': '(born 1933)', 'Remarks': '1 June 1996 to 21 April 1997\\n324 days'}\n",
      "{'Name': '15.', 'Born-Dead': 'Inder Kumar Gujral', 'Term of Office': '(1919–2012)', 'Remarks': '21 April 1997 to 19 March 1998 \\n332 days'}\n",
      "{'Name': '16.', 'Born-Dead': 'Atal Bihari Vajpayee', 'Term of Office': '(1924-2018)', 'Remarks': '19 March 1998 to 22 May 2004 \\n6 years, 64 days'}\n",
      "{'Name': '17.', 'Born-Dead': 'Manmohan Singh', 'Term of Office': '(born 1932)', 'Remarks': '22 May 2004 to 26 May 2014   \\n10 years, 4 days'}\n",
      "{'Name': '18.', 'Born-Dead': 'Narendra Modi', 'Term of Office': '(born 1950)', 'Remarks': '26 May 2014 - 2019'}\n",
      "{'Name': '19.', 'Born-Dead': 'Narendra Modi', 'Term of Office': '(born 1950)', 'Remarks': '30 May 2019- Incumbent'}\n"
     ]
    }
   ],
   "source": [
    "tables = driver.find_elements(By.XPATH, \"/html/body/div[1]/main/div[1]/div[1]/article/div[3]/div[6]/div/table/tbody\")\n",
    "\n",
    "prime_ministers = []\n",
    "\n",
    "rows = table.find_elements(By.XPATH,\".//tr\")\n",
    "\n",
    "for row in rows[1:]:\n",
    "    cells = row.find_elements(By.XPATH,\".//td\")\n",
    "    pm_name = cells[0].text\n",
    "    born_dead = cells[1].text\n",
    "    term_of_office = cells[2].text\n",
    "    remarks = cells[3].text\n",
    "    \n",
    "    pm_data = {\n",
    "        \"Name\": pm_name,\n",
    "        \"Born-Dead\": born_dead,\n",
    "        \"Term of Office\": term_of_office,\n",
    "        \"Remarks\": remarks\n",
    "    }\n",
    "    prime_ministers.append(pm_data)\n",
    "\n",
    "for pm in prime_ministers:\n",
    "    print(pm)"
   ]
  },
  {
   "cell_type": "code",
   "execution_count": 9,
   "id": "7100228d-aaf1-4c99-8337-bf76b7783fc9",
   "metadata": {},
   "outputs": [],
   "source": [
    "#Q8\n",
    "driver = webdriver.Chrome()"
   ]
  },
  {
   "cell_type": "code",
   "execution_count": 10,
   "id": "9e7ec0c2-6353-4a67-b6f3-12a83edc2074",
   "metadata": {},
   "outputs": [],
   "source": [
    "driver.get('https://www.motor1.com/')"
   ]
  },
  {
   "cell_type": "code",
   "execution_count": 11,
   "id": "09863927-260c-481e-b283-bd60de029d88",
   "metadata": {},
   "outputs": [],
   "source": [
    "cars = driver.find_element(By.XPATH, '//input[@class=\"m1-search-panel-input m1-search-form-text\"]')\n",
    "cars.send_keys('50 most expensive cars')"
   ]
  },
  {
   "cell_type": "code",
   "execution_count": 12,
   "id": "ebaa9a85-45a6-455c-b294-7ee860b41c43",
   "metadata": {},
   "outputs": [],
   "source": [
    "search = driver.find_element(By.XPATH, '//button[@class=\"m1-search-panel-button m1-search-form-button-animate icon-search-svg\"]')\n",
    "search.click()"
   ]
  },
  {
   "cell_type": "code",
   "execution_count": 14,
   "id": "5ff101dc-1f7b-43f3-ba7d-9796a825fb13",
   "metadata": {},
   "outputs": [],
   "source": [
    "top_fifty_cars = []"
   ]
  },
  {
   "cell_type": "code",
   "execution_count": 19,
   "id": "15d3a2a6-8e38-48b4-860c-7d87f64605fa",
   "metadata": {},
   "outputs": [],
   "source": [
    "top_cars = driver.find_elements(By.XPATH, '//h3[@class=\"subheader\"]')[:50]\n",
    "for i in top_cars:\n",
    "    car = i.text\n",
    "    top_fifty_cars.append(car)"
   ]
  },
  {
   "cell_type": "code",
   "execution_count": 20,
   "id": "489265d5-d837-40a0-b414-2274c5e13353",
   "metadata": {},
   "outputs": [
    {
     "name": "stdout",
     "output_type": "stream",
     "text": [
      "50\n"
     ]
    }
   ],
   "source": [
    "print(len(top_fifty_cars))"
   ]
  },
  {
   "cell_type": "code",
   "execution_count": 21,
   "id": "3e44f3d3-b46b-4af7-93b1-d05550a7ab42",
   "metadata": {},
   "outputs": [
    {
     "data": {
      "text/html": [
       "<div>\n",
       "<style scoped>\n",
       "    .dataframe tbody tr th:only-of-type {\n",
       "        vertical-align: middle;\n",
       "    }\n",
       "\n",
       "    .dataframe tbody tr th {\n",
       "        vertical-align: top;\n",
       "    }\n",
       "\n",
       "    .dataframe thead th {\n",
       "        text-align: right;\n",
       "    }\n",
       "</style>\n",
       "<table border=\"1\" class=\"dataframe\">\n",
       "  <thead>\n",
       "    <tr style=\"text-align: right;\">\n",
       "      <th></th>\n",
       "      <th>Top 50 Expensive Cars</th>\n",
       "    </tr>\n",
       "  </thead>\n",
       "  <tbody>\n",
       "    <tr>\n",
       "      <th>0</th>\n",
       "      <td>Aston Martin Valour</td>\n",
       "    </tr>\n",
       "    <tr>\n",
       "      <th>1</th>\n",
       "      <td>McLaren Elva</td>\n",
       "    </tr>\n",
       "    <tr>\n",
       "      <th>2</th>\n",
       "      <td>Czinger 21C</td>\n",
       "    </tr>\n",
       "    <tr>\n",
       "      <th>3</th>\n",
       "      <td>Ferrari Monza</td>\n",
       "    </tr>\n",
       "    <tr>\n",
       "      <th>4</th>\n",
       "      <td>Gordon Murray T.33</td>\n",
       "    </tr>\n",
       "    <tr>\n",
       "      <th>5</th>\n",
       "      <td>Koenigsegg Gemera</td>\n",
       "    </tr>\n",
       "    <tr>\n",
       "      <th>6</th>\n",
       "      <td>Zenvo TSR-S</td>\n",
       "    </tr>\n",
       "    <tr>\n",
       "      <th>7</th>\n",
       "      <td>Hennessey Venom F5</td>\n",
       "    </tr>\n",
       "    <tr>\n",
       "      <th>8</th>\n",
       "      <td>Bentley Bacalar</td>\n",
       "    </tr>\n",
       "    <tr>\n",
       "      <th>9</th>\n",
       "      <td>Hispano Suiza Carmen Boulogne</td>\n",
       "    </tr>\n",
       "    <tr>\n",
       "      <th>10</th>\n",
       "      <td>Bentley Mulliner Batur</td>\n",
       "    </tr>\n",
       "    <tr>\n",
       "      <th>11</th>\n",
       "      <td>Deus Vayanne</td>\n",
       "    </tr>\n",
       "    <tr>\n",
       "      <th>12</th>\n",
       "      <td>SSC Tuatara</td>\n",
       "    </tr>\n",
       "    <tr>\n",
       "      <th>13</th>\n",
       "      <td>Lotus Evija</td>\n",
       "    </tr>\n",
       "    <tr>\n",
       "      <th>14</th>\n",
       "      <td>Aston Martin Vulcan</td>\n",
       "    </tr>\n",
       "    <tr>\n",
       "      <th>15</th>\n",
       "      <td>Delage D12</td>\n",
       "    </tr>\n",
       "    <tr>\n",
       "      <th>16</th>\n",
       "      <td>Ferrari Daytona SP3</td>\n",
       "    </tr>\n",
       "    <tr>\n",
       "      <th>17</th>\n",
       "      <td>McLaren Speedtail</td>\n",
       "    </tr>\n",
       "    <tr>\n",
       "      <th>18</th>\n",
       "      <td>Rimac Nevera</td>\n",
       "    </tr>\n",
       "    <tr>\n",
       "      <th>19</th>\n",
       "      <td>Pagani Utopia</td>\n",
       "    </tr>\n",
       "    <tr>\n",
       "      <th>20</th>\n",
       "      <td>Pininfarina Battista</td>\n",
       "    </tr>\n",
       "    <tr>\n",
       "      <th>21</th>\n",
       "      <td>Gordon Murray T.50</td>\n",
       "    </tr>\n",
       "    <tr>\n",
       "      <th>22</th>\n",
       "      <td>Lamborghini Countach</td>\n",
       "    </tr>\n",
       "    <tr>\n",
       "      <th>23</th>\n",
       "      <td>Mercedes-AMG Project One</td>\n",
       "    </tr>\n",
       "    <tr>\n",
       "      <th>24</th>\n",
       "      <td>Zenvo Aurora</td>\n",
       "    </tr>\n",
       "    <tr>\n",
       "      <th>25</th>\n",
       "      <td>Aston Martin Victor</td>\n",
       "    </tr>\n",
       "    <tr>\n",
       "      <th>26</th>\n",
       "      <td>Hennessey Venom F5 Roadster</td>\n",
       "    </tr>\n",
       "    <tr>\n",
       "      <th>27</th>\n",
       "      <td>Koenigsegg Jesko</td>\n",
       "    </tr>\n",
       "    <tr>\n",
       "      <th>28</th>\n",
       "      <td>Aston Martin Valkyrie</td>\n",
       "    </tr>\n",
       "    <tr>\n",
       "      <th>29</th>\n",
       "      <td>W Motors Lykan Hypersport</td>\n",
       "    </tr>\n",
       "    <tr>\n",
       "      <th>30</th>\n",
       "      <td>McLaren Solus</td>\n",
       "    </tr>\n",
       "    <tr>\n",
       "      <th>31</th>\n",
       "      <td>Lamborghini Sian</td>\n",
       "    </tr>\n",
       "    <tr>\n",
       "      <th>32</th>\n",
       "      <td>Koenigsegg CC850</td>\n",
       "    </tr>\n",
       "    <tr>\n",
       "      <th>33</th>\n",
       "      <td>Bugatti Chiron Super Sport 300+</td>\n",
       "    </tr>\n",
       "    <tr>\n",
       "      <th>34</th>\n",
       "      <td>Lamborghini Veneno</td>\n",
       "    </tr>\n",
       "    <tr>\n",
       "      <th>35</th>\n",
       "      <td>Bugatti Bolide</td>\n",
       "    </tr>\n",
       "    <tr>\n",
       "      <th>36</th>\n",
       "      <td>Pininfarina B95 Speedster</td>\n",
       "    </tr>\n",
       "    <tr>\n",
       "      <th>37</th>\n",
       "      <td>Bugatti Mistral</td>\n",
       "    </tr>\n",
       "    <tr>\n",
       "      <th>38</th>\n",
       "      <td>Pagani Huayra Imola</td>\n",
       "    </tr>\n",
       "    <tr>\n",
       "      <th>39</th>\n",
       "      <td>Bugatti Divo</td>\n",
       "    </tr>\n",
       "    <tr>\n",
       "      <th>40</th>\n",
       "      <td>SP Automotive Chaos</td>\n",
       "    </tr>\n",
       "    <tr>\n",
       "      <th>41</th>\n",
       "      <td>Pagani Codalunga</td>\n",
       "    </tr>\n",
       "    <tr>\n",
       "      <th>42</th>\n",
       "      <td>777 Hypercar</td>\n",
       "    </tr>\n",
       "    <tr>\n",
       "      <th>43</th>\n",
       "      <td>Mercedes-Maybach Exelero</td>\n",
       "    </tr>\n",
       "    <tr>\n",
       "      <th>44</th>\n",
       "      <td>Bugatti Centodieci</td>\n",
       "    </tr>\n",
       "    <tr>\n",
       "      <th>45</th>\n",
       "      <td>Bugatti Chiron Profilée</td>\n",
       "    </tr>\n",
       "    <tr>\n",
       "      <th>46</th>\n",
       "      <td>Rolls-Royce Sweptail</td>\n",
       "    </tr>\n",
       "    <tr>\n",
       "      <th>47</th>\n",
       "      <td>Bugatti La Voiture Noire</td>\n",
       "    </tr>\n",
       "    <tr>\n",
       "      <th>48</th>\n",
       "      <td>Rolls-Royce Boat Tail*</td>\n",
       "    </tr>\n",
       "    <tr>\n",
       "      <th>49</th>\n",
       "      <td>Rolls-Royce La Rose Noire Droptail</td>\n",
       "    </tr>\n",
       "  </tbody>\n",
       "</table>\n",
       "</div>"
      ],
      "text/plain": [
       "                 Top 50 Expensive Cars\n",
       "0                  Aston Martin Valour\n",
       "1                         McLaren Elva\n",
       "2                          Czinger 21C\n",
       "3                        Ferrari Monza\n",
       "4                   Gordon Murray T.33\n",
       "5                    Koenigsegg Gemera\n",
       "6                          Zenvo TSR-S\n",
       "7                   Hennessey Venom F5\n",
       "8                      Bentley Bacalar\n",
       "9        Hispano Suiza Carmen Boulogne\n",
       "10              Bentley Mulliner Batur\n",
       "11                        Deus Vayanne\n",
       "12                         SSC Tuatara\n",
       "13                         Lotus Evija\n",
       "14                 Aston Martin Vulcan\n",
       "15                          Delage D12\n",
       "16                 Ferrari Daytona SP3\n",
       "17                   McLaren Speedtail\n",
       "18                        Rimac Nevera\n",
       "19                       Pagani Utopia\n",
       "20                Pininfarina Battista\n",
       "21                  Gordon Murray T.50\n",
       "22                Lamborghini Countach\n",
       "23            Mercedes-AMG Project One\n",
       "24                        Zenvo Aurora\n",
       "25                 Aston Martin Victor\n",
       "26         Hennessey Venom F5 Roadster\n",
       "27                    Koenigsegg Jesko\n",
       "28               Aston Martin Valkyrie\n",
       "29           W Motors Lykan Hypersport\n",
       "30                       McLaren Solus\n",
       "31                    Lamborghini Sian\n",
       "32                    Koenigsegg CC850\n",
       "33     Bugatti Chiron Super Sport 300+\n",
       "34                  Lamborghini Veneno\n",
       "35                      Bugatti Bolide\n",
       "36           Pininfarina B95 Speedster\n",
       "37                     Bugatti Mistral\n",
       "38                 Pagani Huayra Imola\n",
       "39                        Bugatti Divo\n",
       "40                 SP Automotive Chaos\n",
       "41                    Pagani Codalunga\n",
       "42                        777 Hypercar\n",
       "43            Mercedes-Maybach Exelero\n",
       "44                  Bugatti Centodieci\n",
       "45             Bugatti Chiron Profilée\n",
       "46                Rolls-Royce Sweptail\n",
       "47            Bugatti La Voiture Noire\n",
       "48              Rolls-Royce Boat Tail*\n",
       "49  Rolls-Royce La Rose Noire Droptail"
      ]
     },
     "execution_count": 21,
     "metadata": {},
     "output_type": "execute_result"
    }
   ],
   "source": [
    "df = pd.DataFrame({'Top 50 Expensive Cars': top_fifty_cars})\n",
    "df"
   ]
  }
 ],
 "metadata": {
  "kernelspec": {
   "display_name": "Python 3 (ipykernel)",
   "language": "python",
   "name": "python3"
  },
  "language_info": {
   "codemirror_mode": {
    "name": "ipython",
    "version": 3
   },
   "file_extension": ".py",
   "mimetype": "text/x-python",
   "name": "python",
   "nbconvert_exporter": "python",
   "pygments_lexer": "ipython3",
   "version": "3.11.7"
  }
 },
 "nbformat": 4,
 "nbformat_minor": 5
}
