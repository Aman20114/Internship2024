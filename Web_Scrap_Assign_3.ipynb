{
 "cells": [
  {
   "cell_type": "code",
   "execution_count": 1,
   "id": "b4b0d961-d8f8-479c-8d9c-3bd5be9e71f4",
   "metadata": {},
   "outputs": [
    {
     "name": "stdout",
     "output_type": "stream",
     "text": [
      "Defaulting to user installation because normal site-packages is not writeable\n",
      "Requirement already satisfied: selenium in c:\\programdata\\anaconda3\\lib\\site-packages (4.19.0)\n",
      "Requirement already satisfied: urllib3<3,>=1.26 in c:\\programdata\\anaconda3\\lib\\site-packages (from urllib3[socks]<3,>=1.26->selenium) (2.0.7)\n",
      "Requirement already satisfied: trio~=0.17 in c:\\programdata\\anaconda3\\lib\\site-packages (from selenium) (0.25.0)\n",
      "Requirement already satisfied: trio-websocket~=0.9 in c:\\programdata\\anaconda3\\lib\\site-packages (from selenium) (0.11.1)\n",
      "Requirement already satisfied: certifi>=2021.10.8 in c:\\programdata\\anaconda3\\lib\\site-packages (from selenium) (2024.2.2)\n",
      "Requirement already satisfied: typing_extensions>=4.9.0 in c:\\programdata\\anaconda3\\lib\\site-packages (from selenium) (4.9.0)\n",
      "Requirement already satisfied: attrs>=23.2.0 in c:\\programdata\\anaconda3\\lib\\site-packages (from trio~=0.17->selenium) (23.2.0)\n",
      "Requirement already satisfied: sortedcontainers in c:\\programdata\\anaconda3\\lib\\site-packages (from trio~=0.17->selenium) (2.4.0)\n",
      "Requirement already satisfied: idna in c:\\programdata\\anaconda3\\lib\\site-packages (from trio~=0.17->selenium) (3.4)\n",
      "Requirement already satisfied: outcome in c:\\programdata\\anaconda3\\lib\\site-packages (from trio~=0.17->selenium) (1.3.0.post0)\n",
      "Requirement already satisfied: sniffio>=1.3.0 in c:\\programdata\\anaconda3\\lib\\site-packages (from trio~=0.17->selenium) (1.3.0)\n",
      "Requirement already satisfied: cffi>=1.14 in c:\\programdata\\anaconda3\\lib\\site-packages (from trio~=0.17->selenium) (1.16.0)\n",
      "Requirement already satisfied: wsproto>=0.14 in c:\\programdata\\anaconda3\\lib\\site-packages (from trio-websocket~=0.9->selenium) (1.2.0)\n",
      "Requirement already satisfied: pysocks!=1.5.7,<2.0,>=1.5.6 in c:\\programdata\\anaconda3\\lib\\site-packages (from urllib3[socks]<3,>=1.26->selenium) (1.7.1)\n",
      "Requirement already satisfied: pycparser in c:\\programdata\\anaconda3\\lib\\site-packages (from cffi>=1.14->trio~=0.17->selenium) (2.21)\n",
      "Requirement already satisfied: h11<1,>=0.9.0 in c:\\programdata\\anaconda3\\lib\\site-packages (from wsproto>=0.14->trio-websocket~=0.9->selenium) (0.14.0)\n"
     ]
    }
   ],
   "source": [
    "!pip install selenium"
   ]
  },
  {
   "cell_type": "code",
   "execution_count": 1,
   "id": "bb7e9432-aa37-4c88-8d4d-322d17533273",
   "metadata": {},
   "outputs": [],
   "source": [
    "import selenium\n",
    "import pandas as pd\n",
    "from selenium import webdriver\n",
    "import warnings\n",
    "warnings.filterwarnings('ignore')\n",
    "from selenium.webdriver.common.by import By\n",
    "from selenium.webdriver.common.keys import Keys\n",
    "import requests\n",
    "import time"
   ]
  },
  {
   "cell_type": "markdown",
   "id": "94c54c65-df75-431e-910b-6351be543c9c",
   "metadata": {},
   "source": [
    "Q1"
   ]
  },
  {
   "cell_type": "code",
   "execution_count": 2,
   "id": "263e0175-c724-425e-ba64-ac0096503cee",
   "metadata": {},
   "outputs": [
    {
     "name": "stdin",
     "output_type": "stream",
     "text": [
      "Enter your Product name: Guitar\n"
     ]
    }
   ],
   "source": [
    "Val = input('Enter your Product name:')"
   ]
  },
  {
   "cell_type": "markdown",
   "id": "328b1e57-8423-460d-b548-3a5bbcc27721",
   "metadata": {},
   "source": [
    "Q2"
   ]
  },
  {
   "cell_type": "code",
   "execution_count": 56,
   "id": "8a2d37af-c8da-4a20-8366-dfbd789e8657",
   "metadata": {},
   "outputs": [],
   "source": [
    "driver = webdriver.Chrome()\n",
    "driver.get('https://www.amazon.in/')"
   ]
  },
  {
   "cell_type": "code",
   "execution_count": 57,
   "id": "1f17c1af-3cf9-4e9f-9f15-8cc80c18944a",
   "metadata": {},
   "outputs": [],
   "source": [
    "search_field = driver.find_element(By.XPATH, '/html/body/div[1]/header/div/div[1]/div[2]/div/form/div[2]/div[1]/input')\n",
    "search_field.send_keys('Guitar')\n",
    "search_field.send_keys(Keys.ENTER)\n",
    "time.sleep(4)"
   ]
  },
  {
   "cell_type": "code",
   "execution_count": 58,
   "id": "ab7cecce-7c45-4fa9-bdc7-a39922a082ef",
   "metadata": {},
   "outputs": [],
   "source": [
    "product_urls = []\n",
    "start = 0\n",
    "end = 2\n",
    "for page in range(start, end):\n",
    "    url = driver.find_elements(By.XPATH, '//a[@class=\"a-link-normal s-underline-text s-underline-link-text s-link-style a-text-normal\"]')\n",
    "    for i in url:\n",
    "        product_urls.append(i.get_attribute('href'))\n",
    "    next_button = driver.find_element(By.XPATH, '//a[@class=\"s-pagination-item s-pagination-next s-pagination-button s-pagination-separator\"]')\n",
    "    next_button.click()\n",
    "    time.sleep(2)"
   ]
  },
  {
   "cell_type": "code",
   "execution_count": 59,
   "id": "7ec64e4f-bff6-4c84-b06c-515525191874",
   "metadata": {},
   "outputs": [],
   "source": [
    "Brand = []\n",
    "Price = []\n",
    "Return_Exchange = []\n",
    "Expect_Delivery = []\n",
    "Availability = []\n",
    "Product_URL = []"
   ]
  },
  {
   "cell_type": "code",
   "execution_count": 60,
   "id": "794f5311-2127-4dae-85e9-4b7d34cc3857",
   "metadata": {},
   "outputs": [
    {
     "name": "stdout",
     "output_type": "stream",
     "text": [
      "Scraping and saving complete.\n"
     ]
    }
   ],
   "source": [
    "for url in product_urls:\n",
    "    driver.get(url)# This will open every product link individually\n",
    "    time.sleep(3)\n",
    "    \n",
    "    try:\n",
    "        brand = driver.find_element(By.XPATH, '//span[@class=\"a-size-base po-break-word\"]')\n",
    "        Brand.append(brand.text)\n",
    "    except:\n",
    "        Brand.append('_')\n",
    "    try:\n",
    "        price = driver.find_element(By.XPATH, '//span[@class=\"a-price-whole\"]')\n",
    "        Price.append(price.text) \n",
    "    except:\n",
    "        Price.append('_')\n",
    "    try:\n",
    "        return_exchange = driver.find_element(By.XPATH, '/html/body/div[2]/div/div[5]/div[3]/div[4]/div[25]/div[2]/div/div/div/div[2]/div/ol/li[3]/div/span/div[2]/span')\n",
    "        Return_Exchange.append(return_exchange.text)\n",
    "    except:\n",
    "        Return_Exchange.append(\"_\")\n",
    "    try: \n",
    "        delivery = driver.find_Element(By.XPATH, '//span[@class=\"a-text-bold\"]')\n",
    "        Expect_Delivery.append(delivery.text)\n",
    "    except:\n",
    "        Expect_Delivery.append(\"_\")\n",
    "    try:\n",
    "        availability = driver.find_element(By.XPATH, '//span[@class=\"a-size-medium a-color-success\"]')\n",
    "        Availability.append(availability.text)\n",
    "    except:\n",
    "        Availability.append('_')\n",
    "    \n",
    "    Product_URL.append(url)\n",
    "\n",
    "\n",
    "driver.quit()\n",
    "\n",
    "df = pd.DataFrame({\n",
    "    \"Brand Name\": Brand,\n",
    "    \"Price\": Price,\n",
    "    \"Return/Exchange\": Return_Exchange,\n",
    "    \"Expected Delivery\": Expect_Delivery,\n",
    "    \"Availability\": Availability,\n",
    "    \"Product URL\": Product_URL\n",
    "})\n",
    "df.to_csv('amazon_products.csv', index=False)\n",
    "\n",
    "print(\"Scraping and saving complete.\")"
   ]
  },
  {
   "cell_type": "markdown",
   "id": "6e9395fe-fac4-4c5c-ad80-5f7ac7240e34",
   "metadata": {},
   "source": [
    "Q3"
   ]
  },
  {
   "cell_type": "code",
   "execution_count": 19,
   "id": "e22c321c-305d-44ac-83a1-a80c1b3f426c",
   "metadata": {},
   "outputs": [],
   "source": [
    "driver = webdriver.Chrome()\n",
    "driver.get(\"https://www.google.com/imghp?hl=en\")"
   ]
  },
  {
   "cell_type": "code",
   "execution_count": 20,
   "id": "0026458c-7440-4cc1-a1c8-31d4e65d72e5",
   "metadata": {},
   "outputs": [],
   "source": [
    "search_bar = driver.find_element(By.XPATH, '//textarea[@class=\"gLFyf\"]')\n",
    "search_bar.send_keys('Cakes')\n",
    "search_bar.send_keys(Keys.Enter)"
   ]
  },
  {
   "cell_type": "code",
   "execution_count": 22,
   "id": "cff18eb0-5b2d-4549-984a-5055450c1d23",
   "metadata": {},
   "outputs": [
    {
     "name": "stdout",
     "output_type": "stream",
     "text": [
      "Downloading 0 of 10 images\n",
      "Downloading 1 of 10 images\n",
      "Downloading 2 of 10 images\n",
      "Downloading 3 of 10 images\n",
      "Downloading 4 of 10 images\n",
      "Downloading 5 of 10 images\n",
      "Downloading 6 of 10 images\n",
      "Downloading 7 of 10 images\n",
      "Downloading 8 of 10 images\n",
      "Downloading 9 of 10 images\n"
     ]
    }
   ],
   "source": [
    "for _ in range(20):\n",
    "    driver.execute_script('window.scrollBy(0,500)')\n",
    "\n",
    "# Extract image URLs\n",
    "img_urls = []\n",
    "images = driver.find_elements(By.XPATH, '//g-img[@class=\"mNsIhb\"]/img')\n",
    "for image in images:\n",
    "    source = image.get_attribute('src')\n",
    "    if source is not None:\n",
    "        if(source.startswith('http')):\n",
    "            img_urls.append(source)\n",
    "\n",
    "# Download images\n",
    "for i in range(len(img_urls)):\n",
    "    if i >= 10:\n",
    "        break\n",
    "    print(\"Downloading {0} of {1} images\".format(i, 10))\n",
    "    response = requests.get(img_urls[i])\n",
    "    file = open(r'C:\\Users\\amant\\OneDrive\\Desktop\\FlipRobo\\image'+str(i)+'.jpg', 'wb')\n",
    "    file.write(response.content)\n",
    "    file.close()\n",
    "\n",
    "# Close the webdriver\n",
    "driver.quit()"
   ]
  },
  {
   "cell_type": "markdown",
   "id": "5abffd88-0d07-4ed7-8122-18b74913dc38",
   "metadata": {},
   "source": [
    "Q4"
   ]
  },
  {
   "cell_type": "code",
   "execution_count": 87,
   "id": "355ba5c8-67e2-4992-8550-77ae935b2662",
   "metadata": {},
   "outputs": [],
   "source": [
    "driver = webdriver.Chrome()\n",
    "driver.get(\"https://www.flipkart.com/\")"
   ]
  },
  {
   "cell_type": "code",
   "execution_count": 88,
   "id": "450efc75-23e7-4d01-b3f0-ed4d55485345",
   "metadata": {},
   "outputs": [
    {
     "name": "stdin",
     "output_type": "stream",
     "text": [
      "Enter the smartphone to search:  OnePlus Nord\n"
     ]
    }
   ],
   "source": [
    "search_term = input(\"Enter the smartphone to search: \")\n",
    "\n",
    "# Locate the search bar and enter the search term\n",
    "search_bar = driver.find_element(By.XPATH, '//input[@class=\"Pke_EE\"]')\n",
    "search_bar.clear()\n",
    "search_bar.send_keys(search_term)\n",
    "search_bar.submit()\n",
    "time.sleep(2)"
   ]
  },
  {
   "cell_type": "code",
   "execution_count": 89,
   "id": "c65675d1-0753-44d5-abfa-7cd7e9dc50fd",
   "metadata": {},
   "outputs": [],
   "source": [
    "product_urls = []\n",
    "url = driver.find_elements(By.XPATH, '//a[@class=\"CGtC98\"]')\n",
    "for i in url:\n",
    "    product_urls.append(i.get_attribute('href'))\n",
    "    time.sleep(2)"
   ]
  },
  {
   "cell_type": "code",
   "execution_count": 90,
   "id": "a9c057e8-d712-4e08-bdaf-4421dc175da1",
   "metadata": {},
   "outputs": [],
   "source": [
    "Brand_Name = []\n",
    "Model_Name = []\n",
    "Color = []\n",
    "Storage = []\n",
    "Primary_Camera = []\n",
    "Display_Size = []\n",
    "Battery_capacity = []\n",
    "Price = []\n",
    "product_url = []"
   ]
  },
  {
   "cell_type": "code",
   "execution_count": 91,
   "id": "2ca47d3c-9a36-4007-82de-ee0302af0077",
   "metadata": {},
   "outputs": [
    {
     "name": "stdout",
     "output_type": "stream",
     "text": [
      "Scraping and saving complete.\n"
     ]
    }
   ],
   "source": [
    "for url in product_urls:\n",
    "    driver.get(url)# This will open every product link individually\n",
    "    time.sleep(3)\n",
    "    \n",
    "    try:\n",
    "        brand_name = driver.find_element(By.XPATH, '//span[@class=\"VU-ZEz\"]')\n",
    "        Brand_Name.append(brand_name.text)\n",
    "    except:\n",
    "        Brand_Name.append('_')\n",
    "    try:\n",
    "        model_name = driver.find_element(By.XPATH, '/html/body/div[1]/div/div[3]/div[1]/div[2]/div[8]/div[4]/div/div[2]/div/div[1]/table/tbody/tr[3]/td[2]/ul/li')\n",
    "        Model_Name.append(model_name.text) \n",
    "    except:\n",
    "        Model_Name.append('_')\n",
    "    try:\n",
    "        color = driver.find_element(By.XPATH, '/html/body/div[1]/div/div[3]/div[1]/div[2]/div[8]/div[4]/div/div[2]/div[1]/div[1]/table/tbody/tr[4]/td[2]/ul/li')\n",
    "        Color.append(color.text)\n",
    "    except:\n",
    "        Color.append(\"_\")\n",
    "    try: \n",
    "        storage = driver.find_element(By.XPATH, '//li[@class=\"_7eSDEz\"]')\n",
    "        Storage.append(storage.text)\n",
    "    except:\n",
    "        Storage.append(\"_\")\n",
    "    try:\n",
    "        p_cam = driver.find_element(By.XPATH, '/html/body/div[1]/div/div[3]/div[1]/div[2]/div[7]/div[1]/div/div[2]/ul/li[3]')\n",
    "        Primary_Camera.append(p_cam.text)\n",
    "    except:\n",
    "        Primary_Camera.append('_') \n",
    "    try:\n",
    "        display = driver.find_element(By.XPATH, '/html/body/div[1]/div/div[3]/div[1]/div[2]/div[8]/div[4]/div/div[2]/div[1]/div[7]/table/tbody/tr/td[2]/ul/li')\n",
    "        Display_Size.append(display.text)\n",
    "    except:\n",
    "         Display_Size.append(\"_\")\n",
    "    try:\n",
    "        battery = driver.find_element(By.XPATH, '/html/body/div[1]/div/div[3]/div[1]/div[2]/div[8]/div[4]/div/div[2]/div[1]/div[7]/table/tbody/tr/td[2]/ul/li')\n",
    "        Battery_capacity.append(battery.text)\n",
    "    except:\n",
    "         Battery_capacity.append(\"_\")\n",
    "    try:\n",
    "        price = driver.find_element(By.XPATH, '//div[@class=\"Nx9bqj CxhGGd\"]')\n",
    "        Price.append(price.text)\n",
    "    except:\n",
    "        Price.append(\"_\")\n",
    "        \n",
    "    Product_URL.append(url)\n",
    "\n",
    "\n",
    "driver.quit()\n",
    "\n",
    "df = pd.DataFrame({\n",
    "    \"Brand Name\": brand_name,\n",
    "    'Model Name': model_name,\n",
    "    'Color': color,\n",
    "    'Storage': storage,\n",
    "    'Primary Camera': p_cam,\n",
    "    'Display Size': display,\n",
    "    'Battery Capacity': battery,\n",
    "    'Price': price,\n",
    "    \"Product URL\": Product_URL\n",
    "})\n",
    "df.to_csv('Flipkart_product.csv', index=False)\n",
    "\n",
    "print(\"Scraping and saving complete.\")"
   ]
  },
  {
   "cell_type": "markdown",
   "id": "bebee828-1165-4b58-85a4-8796b2d756a3",
   "metadata": {},
   "source": [
    "Q5"
   ]
  },
  {
   "cell_type": "code",
   "execution_count": 109,
   "id": "8e645e9e-41d3-43ec-a1f7-50addcb772a8",
   "metadata": {},
   "outputs": [],
   "source": [
    "driver = webdriver.Chrome()\n",
    "driver.get(\"https://www.google.com/maps\")"
   ]
  },
  {
   "cell_type": "code",
   "execution_count": 110,
   "id": "89af086e-b8ce-4473-8aff-2d91b81cb99c",
   "metadata": {},
   "outputs": [
    {
     "name": "stdin",
     "output_type": "stream",
     "text": [
      "type city name here...: Paris\n"
     ]
    }
   ],
   "source": [
    "city_name = input(\"type city name here...:\")\n",
    "search_bar = driver.find_element(By.XPATH, '//input[@class=\"searchboxinput xiQnY\"]')\n",
    "search_bar.send_keys(city_name)\n",
    "submit = driver.find_element(By.XPATH, '/html/body/div[1]/div[3]/div[8]/div[3]/div[1]/div[1]/div/div[2]/div[1]/button')\n",
    "submit.click()\n",
    "\n",
    "time.sleep(2)"
   ]
  },
  {
   "cell_type": "code",
   "execution_count": 111,
   "id": "f1860dcf-3afa-49cd-8258-3946439965d3",
   "metadata": {},
   "outputs": [
    {
     "name": "stdout",
     "output_type": "stream",
     "text": [
      "Paris: Latitude: 22.6951168 Longitude: 22.6951168\n"
     ]
    }
   ],
   "source": [
    "current_url = driver.current_url\n",
    "\n",
    "coordinates_start_index = current_url.find('@') + 1\n",
    "coordinates_end_index = current_url.find(',', coordinates_start_index)\n",
    "latitude_longitude = current_url[coordinates_start_index:coordinates_end_index].split(',')\n",
    "\n",
    "latitude = latitude_longitude[0]\n",
    "longitude = latitude_longitude[0]\n",
    "\n",
    "print(city_name + \":\", \"Latitude:\", latitude, \"Longitude:\", longitude)                                                 "
   ]
  },
  {
   "cell_type": "markdown",
   "id": "22556a80-1ebf-426d-b40f-552ba3cc15d9",
   "metadata": {},
   "source": [
    "Q6"
   ]
  },
  {
   "cell_type": "code",
   "execution_count": 116,
   "id": "2dde3270-b452-4e20-b3bb-0a24a7c74177",
   "metadata": {},
   "outputs": [],
   "source": [
    "driver = webdriver.Chrome()\n",
    "driver.get(\"https://www.digit.in/top-products/best-ai-gaming-laptops.html\")"
   ]
  },
  {
   "cell_type": "code",
   "execution_count": null,
   "id": "bd9724d5-84ec-48da-8a54-66fed8725aca",
   "metadata": {},
   "outputs": [],
   "source": []
  },
  {
   "cell_type": "code",
   "execution_count": 114,
   "id": "8d43026a-2939-45bd-a61c-5c6fd8f422e1",
   "metadata": {},
   "outputs": [],
   "source": []
  },
  {
   "cell_type": "code",
   "execution_count": 118,
   "id": "bda58402-e6d3-42a6-a316-40eb60f77573",
   "metadata": {
    "scrolled": true
   },
   "outputs": [
    {
     "name": "stdout",
     "output_type": "stream",
     "text": [
      "  Operating System Display Size                    Processor\n",
      "0  Windows 11 Home           14  7th Gen, AMD Ryzen 9 7940HS\n",
      "1  Windows 11 Home           17                            _\n",
      "2                _            _                            _\n",
      "3                _            _                            _\n",
      "4                _            _                            _\n",
      "5  Windows 11 Home         16.1                            _\n",
      "6  Windows 11 Home         15.6           AMD Ryzen 5-7640HS\n"
     ]
    }
   ],
   "source": [
    "product_urls = []\n",
    "\n",
    "urls = driver.find_elements(By.XPATH, '//h3[@class=\"font130 mt0 mb10 mobilesblockdisplay \"]/a')\n",
    "for url in urls:\n",
    "    product_urls.append(url.get_attribute('href'))\n",
    "    time.sleep(2)\n",
    "\n",
    "Operating_System = []\n",
    "Display_Size = []\n",
    "Processor = []\n",
    "\n",
    "for url in product_urls:\n",
    "    driver.get(url)\n",
    "    time.sleep(3)\n",
    "\n",
    "    try:\n",
    "        os = driver.find_element(By.XPATH, '/html/body/div[1]/div[3]/div/div/div/div/div[2]/div[4]/div/div[2]/table/tbody/tr[2]/td/table/tbody/tr[1]/td/p').text\n",
    "    except:\n",
    "        os = \"_\"\n",
    "    Operating_System.append(os)\n",
    "    \n",
    "    # Extract display size\n",
    "    try:\n",
    "        display = driver.find_element(By.XPATH, '/html/body/div[1]/div[3]/div/div/div/div/div[2]/div[4]/div/div[2]/table/tbody/tr[4]/td/table/tbody/tr/td/p').text\n",
    "    except:\n",
    "        display = \"_\"\n",
    "    Display_Size.append(display)\n",
    "    \n",
    "    # Extract processor\n",
    "    try:\n",
    "        processor = driver.find_element(By.XPATH, '/html/body/div[1]/div[3]/div/div/div/div/div[2]/div[4]/div/div[2]/table/tbody/tr[10]/td/table/tbody/tr[5]/td/p').text\n",
    "    except:\n",
    "        processor = \"_\"\n",
    "    Processor.append(processor)\n",
    "\n",
    "df = pd.DataFrame({\n",
    "    \"Operating System\": Operating_System,\n",
    "    'Display Size': Display_Size,\n",
    "    'Processor': Processor,\n",
    "})\n",
    "\n",
    "print(df)"
   ]
  },
  {
   "cell_type": "markdown",
   "id": "1b8b6108-a1db-4033-9ec7-a8eb8c62951a",
   "metadata": {},
   "source": [
    "Q7"
   ]
  },
  {
   "cell_type": "code",
   "execution_count": 123,
   "id": "3e37ee77-a461-44ed-b389-229be9e85925",
   "metadata": {},
   "outputs": [],
   "source": [
    "driver = webdriver.Chrome()\n",
    "driver.get(\"https://www.forbes.com/billionaires/\")\n",
    "\n",
    "time.sleep(5)"
   ]
  },
  {
   "cell_type": "code",
   "execution_count": 126,
   "id": "8f3f5361-07a0-4251-916f-b764f61479ab",
   "metadata": {},
   "outputs": [
    {
     "name": "stdout",
     "output_type": "stream",
     "text": [
      "Scraping is done\n"
     ]
    }
   ],
   "source": [
    "ranks = []\n",
    "names = []\n",
    "net_worths = []\n",
    "ages = []\n",
    "citizenships = []\n",
    "sources = []\n",
    "industries = []\n",
    "\n",
    "billionaires = driver.find_elements(By.XPATH, '//h2[@class=\"Table_tableHeader__ITrWF\"]')\n",
    "for billionaire in billionaires:\n",
    "    rank = billionaire.find_element(By.XPATH, '//div[@class=\"Table_rank__X4MKf\"]/div').text\n",
    "    ranks.append(rank)\n",
    "\n",
    "    name = billionaire.find_element(By.XPATH, '//div[@class=\"Table_personName__Bus2E\"]').text\n",
    "    names.append(name)\n",
    "\n",
    "    net_worth = billionaire.find_element(By.XPATH, '//div[@class=\"Table_finalWorth__UZA6k\"]/span').text\n",
    "    net_worths.append(net_worth)\n",
    "\n",
    "    industry = billionaire.find_element(By.XPATH, '/html/body/div[1]/div[2]/div/div/div[3]/div[2]/div[2]/div/div[2]/div[1]/div[2]/div[4]').text\n",
    "    industries.append(industry)\n",
    "\n",
    "print(\"Scraping is done\")\n",
    "driver.quit()"
   ]
  },
  {
   "cell_type": "markdown",
   "id": "c40fd53a-aa54-4d43-9169-330793e79fb4",
   "metadata": {},
   "source": [
    "Q8"
   ]
  },
  {
   "cell_type": "code",
   "execution_count": null,
   "id": "c44d9ac4-709f-4e08-aeb4-1dc9ca772c69",
   "metadata": {},
   "outputs": [],
   "source": []
  }
 ],
 "metadata": {
  "kernelspec": {
   "display_name": "Python 3 (ipykernel)",
   "language": "python",
   "name": "python3"
  },
  "language_info": {
   "codemirror_mode": {
    "name": "ipython",
    "version": 3
   },
   "file_extension": ".py",
   "mimetype": "text/x-python",
   "name": "python",
   "nbconvert_exporter": "python",
   "pygments_lexer": "ipython3",
   "version": "3.11.7"
  }
 },
 "nbformat": 4,
 "nbformat_minor": 5
}
